{
 "cells": [
  {
   "cell_type": "code",
   "execution_count": 2,
   "metadata": {
    "collapsed": false
   },
   "outputs": [],
   "source": [
    "from __future__ import absolute_import, unicode_literals\n",
    "from tensorflow.examples.tutorials.mnist import input_data\n",
    "import tensorflow as tf\n",
    "import shutil\n",
    "import os.path"
   ]
  },
  {
   "cell_type": "code",
   "execution_count": 3,
   "metadata": {
    "collapsed": true
   },
   "outputs": [],
   "source": [
    "def weight_variable(name,shape):\n",
    "  initializer=tf.contrib.layers.xavier_initializer_conv2d()\n",
    "  return tf.get_variable(name,shape,initializer=initializer)\n",
    "\n",
    "def bias_variable(shape,name,initial=0.1):\n",
    "  initializer = tf.constant_initializer(initial)\n",
    "  return tf.get_variable(initializer=initializer,name=name,shape=shape)\n",
    "\n",
    "def conv2d(x, W,padding,name):\n",
    "  return tf.nn.conv2d(x, W, strides=[1, 1, 1, 1], padding=padding,name=name)\n",
    "\n",
    "def max_pool_2x2(x):\n",
    "  return tf.nn.max_pool(x, ksize=[1, 2, 2, 1],\n",
    "                        strides=[1, 2, 2, 1], padding='SAME')"
   ]
  },
  {
   "cell_type": "code",
   "execution_count": 12,
   "metadata": {
    "collapsed": false
   },
   "outputs": [
    {
     "name": "stdout",
     "output_type": "stream",
     "text": [
      "Extracting data/train-images-idx3-ubyte.gz\n",
      "Extracting data/train-labels-idx1-ubyte.gz\n",
      "Extracting data/t10k-images-idx3-ubyte.gz\n",
      "Extracting data/t10k-labels-idx1-ubyte.gz\n"
     ]
    }
   ],
   "source": [
    "# Get the training and test data\n",
    "mnist = input_data.read_data_sets(\"data/\", one_hot=True)"
   ]
  },
  {
   "cell_type": "code",
   "execution_count": 23,
   "metadata": {
    "collapsed": false
   },
   "outputs": [
    {
     "data": {
      "text/plain": [
       "(50, 10)"
      ]
     },
     "execution_count": 23,
     "metadata": {},
     "output_type": "execute_result"
    }
   ],
   "source": [
    "batch = mnist.train.next_batch(50)\n",
    "train = batch[1]\n",
    "train.shape"
   ]
  },
  {
   "cell_type": "code",
   "execution_count": 46,
   "metadata": {
    "collapsed": false
   },
   "outputs": [],
   "source": [
    "model_params = {\n",
    "                    'conv_network' : [('SAME',16),('SAME',32)],\n",
    "                    'conv_weights' : [(1,32),(32,64)],\n",
    "                    'pool_layers' : [0,1],\n",
    "                    'drop_layers' : [1],\n",
    "                    'fc_weight' : 1024\n",
    "                    }"
   ]
  },
  {
   "cell_type": "code",
   "execution_count": 66,
   "metadata": {
    "collapsed": false
   },
   "outputs": [],
   "source": [
    "image_size = 28\n",
    "test_size = 10\n",
    "batch_size = 50\n",
    "patch_size = 5\n",
    "num_channels = 1\n",
    "num_labels = 10\n"
   ]
  },
  {
   "cell_type": "code",
   "execution_count": 77,
   "metadata": {
    "collapsed": false
   },
   "outputs": [
    {
     "name": "stdout",
     "output_type": "stream",
     "text": [
      "Conv shape (?, 28, 28, 32)\n",
      "End (?, 14, 14, 32)\n",
      "Conv shape (?, 14, 14, 64)\n",
      "End (?, 7, 7, 64)\n",
      "step 0, training accuracy 0.08\n",
      "test accuracy 0.1315\n"
     ]
    }
   ],
   "source": [
    "graph = tf.Graph()\n",
    "with graph.as_default():\n",
    "    tf_train_dataset = tf.placeholder(tf.float32, shape=[None, image_size,image_size, num_channels])\n",
    "    tf_train_labels = tf.placeholder(tf.float32, shape=[None, 10])\n",
    "    tf_test_dataset = tf.placeholder(tf.float32, shape=(test_size, image_size, image_size, num_channels))\n",
    "    keep_prob = tf.placeholder(\"float\")\n",
    "    \n",
    "    # Variables.\n",
    "    W_conv = []\n",
    "    b_conv = []\n",
    "    W_fc = []\n",
    "    b_fc = []\n",
    "    for i,filt_param in enumerate(model_params['conv_weights']) :\n",
    "        W_conv.append(weight_variable('Wconv{}'.format(i),[patch_size, patch_size, filt_param[0],filt_param[1]]))\n",
    "        b_conv.append(bias_variable(shape=[filt_param[1]],name='Bconv{}'.format(i),initial=1.0))  \n",
    "\n",
    "    def model(data,keep_prob,shape) :\n",
    "        conv = data\n",
    "        for i,params in enumerate(model_params['conv_network']) :\n",
    "            pool_layers = model_params['pool_layers']\n",
    "            drop_layers = model_params['drop_layers']\n",
    "            conv = conv2d(conv,W_conv[i],padding=params[0],name='Conv{}'.format(i)) \n",
    "            conv = tf.nn.relu(conv + b_conv[i])\n",
    "            print \"Conv shape\", conv.get_shape()\n",
    "            if i in drop_layers :\n",
    "                conv = tf.nn.dropout(conv,keep_prob)\n",
    "            if i in pool_layers :\n",
    "                conv = max_pool_2x2(conv)\n",
    "            print \"End\" ,conv.get_shape()\n",
    "        \n",
    "        shape = conv.get_shape().as_list()\n",
    "        reshape = tf.reshape(conv, [-1, shape[1] * shape[2] * shape[3]])\n",
    "        fc_depth = model_params['fc_weight']\n",
    "        W_fc.append(weight_variable(\"Wfc{}\".format(0),[shape[1] * shape[2] * shape[3],fc_depth])) \n",
    "        b_fc.append(bias_variable(initial=1.0,shape=[fc_depth],name='Bfc{}'.format(0)))\n",
    "        out_fc1 = tf.nn.relu(tf.matmul(reshape, W_fc[0]) + b_fc[0])\n",
    "        \n",
    "        shape = out_fc1.get_shape().as_list()\n",
    "        W_fc.append(weight_variable(\"Wfc{}\".format(1),[fc_depth,num_labels])) \n",
    "        b_fc.append(bias_variable(initial=1.0,shape=[num_labels],name='Bfc{}'.format(1)))\n",
    "        out = tf.nn.softmax(tf.matmul(out_fc1, W_fc[1]) + b_fc[1])\n",
    "        return out\n",
    "    \n",
    "    y_model = model(tf_train_dataset,keep_prob=keep_prob,shape=[batch_size,image_size,image_size,1])\n",
    "    cross_entropy = -tf.reduce_sum(tf_train_labels * tf.log(y_model))\n",
    "    train_step = tf.train.AdamOptimizer(1e-4).minimize(cross_entropy)\n",
    "    correct_prediction = tf.equal(tf.argmax(y_model, 1), tf.argmax(tf_train_labels, 1))\n",
    "    accuracy = tf.reduce_mean(tf.cast(correct_prediction, \"float\"))\n",
    "    \n",
    "    sess = tf.Session()\n",
    "    sess.run(tf.initialize_all_variables())\n",
    "    \n",
    "    for i in range(20):\n",
    "        batch = mnist.train.next_batch(50)\n",
    "        if i % 100 == 0:\n",
    "            train_accuracy = accuracy.eval(\n",
    "                {tf_train_dataset: batch[0].reshape([-1,28,28,1]), tf_train_labels: batch[1], keep_prob: 1.0}, sess)\n",
    "            print \"step %d, training accuracy %g\" % (i, train_accuracy)\n",
    "        train_step.run(\n",
    "            {tf_train_dataset: batch[0].reshape([-1,28,28,1]), tf_train_labels: batch[1], keep_prob: 0.5}, sess)\n",
    "\n",
    "    print \"test accuracy %g\" % accuracy.eval(\n",
    "        {tf_train_dataset: mnist.test.images.reshape([-1,28,28,1]), tf_train_labels: mnist.test.labels, keep_prob: 1.0}, sess)\n",
    "    \n",
    "    #Store the variables as constant to export the graph. \n",
    "    \n",
    "    tf_train_dataset_2 = tf.placeholder(tf.float32, shape=[None, image_size,image_size, num_channels])\n",
    "    W_conv_temp = []\n",
    "    b_conv_temp = []\n",
    "    W_fc_temp = []\n",
    "    b_fc_temp = []\n",
    "    \n",
    "    for i,filt_param in enumerate(model_params['conv_weights']) :\n",
    "        W_conv_temp.append(W_conv[i].eval(sess))\n",
    "        b_conv_temp.append(b_conv[i].eval(sess))\n",
    "    \n",
    "    for i in range (0,2) :\n",
    "        W_fc_temp.append(W_fc[i].eval(sess))\n",
    "        b_fc_temp.append(b_fc[i].eval(sess))\n",
    "        \n",
    "    \n",
    "    sess.close()\n",
    "    \n",
    "\n",
    "    "
   ]
  },
  {
   "cell_type": "code",
   "execution_count": 83,
   "metadata": {
    "collapsed": false
   },
   "outputs": [
    {
     "name": "stdout",
     "output_type": "stream",
     "text": [
      "Conv shape (?, 28, 28, 32)\n",
      "End (?, 14, 14, 32)\n",
      "Conv shape (?, 14, 14, 64)\n",
      "End (?, 7, 7, 64)\n",
      "check accuracy 0.1315\n"
     ]
    }
   ],
   "source": [
    "g = tf.Graph()\n",
    "with g.as_default() :\n",
    "    x_2 = tf.placeholder(\"float\", shape=[None, image_size,image_size,1], name=\"input\")\n",
    "    W_conv_const = []\n",
    "    b_conv_const = []\n",
    "    W_fc_const = []\n",
    "    b_fc_const = []\n",
    "    \n",
    "    for i,filt_param in enumerate(model_params['conv_weights']) :\n",
    "        W_conv_const.append(tf.constant(W_conv_temp[i]))\n",
    "        b_conv_const.append(tf.constant(b_conv_temp[i]))\n",
    "        \n",
    "    for i in range (0,2) :\n",
    "        W_fc_const.append(tf.constant(W_fc_temp[i]))\n",
    "        b_fc_const.append(tf.constant(b_fc_temp[i]))\n",
    "        \n",
    "        \n",
    "    def model(data,shape) :\n",
    "        conv = data\n",
    "        for i,params in enumerate(model_params['conv_network']) :\n",
    "            pool_layers = model_params['pool_layers']\n",
    "            drop_layers = model_params['drop_layers']\n",
    "            conv = conv2d(conv,W_conv_const[i],padding=params[0],name='Conv{}'.format(i)) \n",
    "            conv = tf.nn.relu(conv + b_conv_const[i])\n",
    "            print \"Conv shape\", conv.get_shape()\n",
    "            if i in drop_layers :\n",
    "                conv = tf.nn.dropout(conv,1.0)\n",
    "            if i in pool_layers :\n",
    "                conv = max_pool_2x2(conv)\n",
    "            print \"End\" ,conv.get_shape()\n",
    "        \n",
    "        shape = conv.get_shape().as_list()\n",
    "        reshape = tf.reshape(conv, [-1, shape[1] * shape[2] * shape[3]])\n",
    "        fc_depth = model_params['fc_weight']\n",
    "        out_fc1 = tf.nn.relu(tf.matmul(reshape, W_fc_const[0]) + b_fc_const[0])\n",
    "        \n",
    "        shape = out_fc1.get_shape().as_list()\n",
    "        W_fc.append(weight_variable(\"Wfc{}\".format(1),[fc_depth,num_labels])) \n",
    "        b_fc.append(bias_variable(initial=1.0,shape=[num_labels],name='Bfc{}'.format(1)))\n",
    "        out = tf.nn.softmax(tf.matmul(out_fc1, W_fc_const[1]) + b_fc_const[1],name=\"output\")\n",
    "        return out\n",
    "    \n",
    "    y_model_2 = model(x_2,shape=[batch_size,image_size,image_size,1])\n",
    "    \n",
    "    sess_2 = tf.Session()\n",
    "    init_2 = tf.initialize_all_variables();\n",
    "    sess_2.run(init_2)\n",
    "    \n",
    "    # Test trained model\n",
    "    y__2 = tf.placeholder(\"float\", [None, 10])\n",
    "    correct_prediction_2 = tf.equal(tf.argmax(y_model_2, 1), tf.argmax(y__2, 1))\n",
    "    accuracy_2 = tf.reduce_mean(tf.cast(correct_prediction_2, \"float\"))\n",
    "\n",
    "    print \"check accuracy %g\" % accuracy_2.eval(\n",
    "        {x_2: mnist.test.images.reshape([-1,28,28,1]), y__2: mnist.test.labels}, sess_2)\n",
    "    \n",
    "    \n",
    "    \n",
    "    \n",
    "    "
   ]
  },
  {
   "cell_type": "code",
   "execution_count": null,
   "metadata": {
    "collapsed": true
   },
   "outputs": [],
   "source": []
  }
 ],
 "metadata": {
  "kernelspec": {
   "display_name": "Python 2",
   "language": "python",
   "name": "python2"
  },
  "language_info": {
   "codemirror_mode": {
    "name": "ipython",
    "version": 2
   },
   "file_extension": ".py",
   "mimetype": "text/x-python",
   "name": "python",
   "nbconvert_exporter": "python",
   "pygments_lexer": "ipython2",
   "version": "2.7.9"
  }
 },
 "nbformat": 4,
 "nbformat_minor": 0
}
